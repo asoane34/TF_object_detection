{
  "nbformat": 4,
  "nbformat_minor": 0,
  "metadata": {
    "colab": {
      "name": "03FasterRCNNInceptionResnetV2Atrous.ipynb",
      "provenance": [],
      "collapsed_sections": [],
      "authorship_tag": "ABX9TyNrslglw6fQLd9LLRXUQnEQ",
      "include_colab_link": true
    },
    "kernelspec": {
      "name": "python3",
      "display_name": "Python 3"
    },
    "accelerator": "GPU"
  },
  "cells": [
    {
      "cell_type": "markdown",
      "metadata": {
        "id": "view-in-github",
        "colab_type": "text"
      },
      "source": [
        "<a href=\"https://colab.research.google.com/github/asoane34/TF_object_detection/blob/master/03FasterRCNNInceptionResnetV2Atrous.ipynb\" target=\"_parent\"><img src=\"https://colab.research.google.com/assets/colab-badge.svg\" alt=\"Open In Colab\"/></a>"
      ]
    },
    {
      "cell_type": "code",
      "metadata": {
        "id": "2jZXV-IuwyFa",
        "colab_type": "code",
        "colab": {}
      },
      "source": [
        "from google.colab import drive\n",
        "\n",
        "drive.mount(\"/gdrive\")"
      ],
      "execution_count": 0,
      "outputs": []
    },
    {
      "cell_type": "code",
      "metadata": {
        "id": "yLJ0WCFCw_hr",
        "colab_type": "code",
        "outputId": "62991696-5a51-4652-9cc7-06f17343e34d",
        "colab": {
          "base_uri": "https://localhost:8080/",
          "height": 34
        }
      },
      "source": [
        "%cd /gdrive/'My Drive'/object_detection"
      ],
      "execution_count": 0,
      "outputs": [
        {
          "output_type": "stream",
          "text": [
            "/gdrive/My Drive/object_detection\n"
          ],
          "name": "stdout"
        }
      ]
    },
    {
      "cell_type": "code",
      "metadata": {
        "id": "-uhfnH_nxmBe",
        "colab_type": "code",
        "outputId": "5f90f650-c572-4319-b208-24f5adff1da4",
        "colab": {
          "base_uri": "https://localhost:8080/",
          "height": 34
        }
      },
      "source": [
        "%tensorflow_version 1.x"
      ],
      "execution_count": 0,
      "outputs": [
        {
          "output_type": "stream",
          "text": [
            "TensorFlow 1.x selected.\n"
          ],
          "name": "stdout"
        }
      ]
    },
    {
      "cell_type": "code",
      "metadata": {
        "id": "SFHK-y0Nxp3G",
        "colab_type": "code",
        "outputId": "beeae8e7-e8e6-4c8d-8f25-c24c6e1613e8",
        "colab": {
          "base_uri": "https://localhost:8080/",
          "height": 34
        }
      },
      "source": [
        "import tensorflow as tf\n",
        "\n",
        "tf.__version__"
      ],
      "execution_count": 0,
      "outputs": [
        {
          "output_type": "execute_result",
          "data": {
            "text/plain": [
              "'1.15.2'"
            ]
          },
          "metadata": {
            "tags": []
          },
          "execution_count": 4
        }
      ]
    },
    {
      "cell_type": "code",
      "metadata": {
        "id": "UzEgBRJPxtOd",
        "colab_type": "code",
        "colab": {}
      },
      "source": [
        "def validate_dataset(filenames, reader_opts=None):\n",
        "\n",
        "    i = 0\n",
        "    \n",
        "    for fname in filenames:\n",
        "        \n",
        "        print('validating ', fname)\n",
        "\n",
        "        record_iterator = tf.io.tf_record_iterator(path=fname, options=reader_opts)\n",
        "        \n",
        "        try:\n",
        "            \n",
        "            for _ in record_iterator:\n",
        "                \n",
        "                i += 1\n",
        "                \n",
        "        except Exception as e:\n",
        "            \n",
        "            print('error in {} at record {}'.format(fname, i))\n",
        "            \n",
        "            print(e)"
      ],
      "execution_count": 0,
      "outputs": []
    },
    {
      "cell_type": "code",
      "metadata": {
        "id": "TZPUV-dwxzdk",
        "colab_type": "code",
        "outputId": "a94cbbfe-5199-4842-daa2-23f7a40909f9",
        "colab": {
          "base_uri": "https://localhost:8080/",
          "height": 68
        }
      },
      "source": [
        "validate_dataset([\"./global-wheat-detection/validation.tfrecord\", \"./global-wheat-detection/train.tfrecord\",\n",
        "                  \"./global-wheat-detection/test_images.tfrecord\"])"
      ],
      "execution_count": 0,
      "outputs": [
        {
          "output_type": "stream",
          "text": [
            "validating  ./global-wheat-detection/validation.tfrecord\n",
            "validating  ./global-wheat-detection/train.tfrecord\n",
            "validating  ./global-wheat-detection/test_images.tfrecord\n"
          ],
          "name": "stdout"
        }
      ]
    },
    {
      "cell_type": "code",
      "metadata": {
        "id": "OgxmaJp4yQ-d",
        "colab_type": "code",
        "outputId": "216844e5-60f3-4704-cfe8-b307e08e7fcc",
        "colab": {
          "base_uri": "https://localhost:8080/",
          "height": 34
        }
      },
      "source": [
        "%cd models/research \n",
        "\n",
        "!protoc object_detection/protos/*.proto --python_out=."
      ],
      "execution_count": 0,
      "outputs": [
        {
          "output_type": "stream",
          "text": [
            "/gdrive/My Drive/object_detection/models/research\n"
          ],
          "name": "stdout"
        }
      ]
    },
    {
      "cell_type": "code",
      "metadata": {
        "id": "TAMHSSigyaOd",
        "colab_type": "code",
        "outputId": "8d078547-db18-41d1-ad13-43ab73a34f7e",
        "colab": {
          "base_uri": "https://localhost:8080/",
          "height": 34
        }
      },
      "source": [
        "import os\n",
        "\n",
        "os.environ['PYTHONPATH'] = os.environ['PYTHONPATH']+':/gdrive/My Drive/object_detection/models/research/slim:/gdrive/My Drive/object_detection/models/research'\n",
        "\n",
        "os.environ['PYTHONPATH']"
      ],
      "execution_count": 0,
      "outputs": [
        {
          "output_type": "execute_result",
          "data": {
            "text/plain": [
              "'/tensorflow-1.15.2/python3.6:/env/python:/gdrive/My Drive/object_detection/models/research/slim:/gdrive/My Drive/object_detection/models/research'"
            ]
          },
          "metadata": {
            "tags": []
          },
          "execution_count": 9
        }
      ]
    },
    {
      "cell_type": "code",
      "metadata": {
        "id": "E3bpLRSNyjv0",
        "colab_type": "code",
        "outputId": "27cd455a-983e-4a61-a4b5-9d9011bd80f0",
        "colab": {
          "base_uri": "https://localhost:8080/",
          "height": 816
        }
      },
      "source": [
        "!python object_detection/builders/model_builder_test.py"
      ],
      "execution_count": 0,
      "outputs": [
        {
          "output_type": "stream",
          "text": [
            "WARNING:tensorflow:\n",
            "The TensorFlow contrib module will not be included in TensorFlow 2.0.\n",
            "For more information, please see:\n",
            "  * https://github.com/tensorflow/community/blob/master/rfcs/20180907-contrib-sunset.md\n",
            "  * https://github.com/tensorflow/addons\n",
            "  * https://github.com/tensorflow/io (for I/O related ops)\n",
            "If you depend on functionality not listed there, please file an issue.\n",
            "\n",
            "Running tests under Python 3.6.9: /usr/bin/python3\n",
            "[ RUN      ] ModelBuilderTest.test_create_experimental_model\n",
            "[       OK ] ModelBuilderTest.test_create_experimental_model\n",
            "[ RUN      ] ModelBuilderTest.test_create_faster_rcnn_model_from_config_with_example_miner\n",
            "[       OK ] ModelBuilderTest.test_create_faster_rcnn_model_from_config_with_example_miner\n",
            "[ RUN      ] ModelBuilderTest.test_create_faster_rcnn_models_from_config_faster_rcnn_with_matmul\n",
            "[       OK ] ModelBuilderTest.test_create_faster_rcnn_models_from_config_faster_rcnn_with_matmul\n",
            "[ RUN      ] ModelBuilderTest.test_create_faster_rcnn_models_from_config_faster_rcnn_without_matmul\n",
            "[       OK ] ModelBuilderTest.test_create_faster_rcnn_models_from_config_faster_rcnn_without_matmul\n",
            "[ RUN      ] ModelBuilderTest.test_create_faster_rcnn_models_from_config_mask_rcnn_with_matmul\n",
            "[       OK ] ModelBuilderTest.test_create_faster_rcnn_models_from_config_mask_rcnn_with_matmul\n",
            "[ RUN      ] ModelBuilderTest.test_create_faster_rcnn_models_from_config_mask_rcnn_without_matmul\n",
            "[       OK ] ModelBuilderTest.test_create_faster_rcnn_models_from_config_mask_rcnn_without_matmul\n",
            "[ RUN      ] ModelBuilderTest.test_create_rfcn_model_from_config\n",
            "[       OK ] ModelBuilderTest.test_create_rfcn_model_from_config\n",
            "[ RUN      ] ModelBuilderTest.test_create_ssd_fpn_model_from_config\n",
            "[       OK ] ModelBuilderTest.test_create_ssd_fpn_model_from_config\n",
            "[ RUN      ] ModelBuilderTest.test_create_ssd_models_from_config\n",
            "[       OK ] ModelBuilderTest.test_create_ssd_models_from_config\n",
            "[ RUN      ] ModelBuilderTest.test_invalid_faster_rcnn_batchnorm_update\n",
            "[       OK ] ModelBuilderTest.test_invalid_faster_rcnn_batchnorm_update\n",
            "[ RUN      ] ModelBuilderTest.test_invalid_first_stage_nms_iou_threshold\n",
            "[       OK ] ModelBuilderTest.test_invalid_first_stage_nms_iou_threshold\n",
            "[ RUN      ] ModelBuilderTest.test_invalid_model_config_proto\n",
            "[       OK ] ModelBuilderTest.test_invalid_model_config_proto\n",
            "[ RUN      ] ModelBuilderTest.test_invalid_second_stage_batch_size\n",
            "[       OK ] ModelBuilderTest.test_invalid_second_stage_batch_size\n",
            "[ RUN      ] ModelBuilderTest.test_session\n",
            "[  SKIPPED ] ModelBuilderTest.test_session\n",
            "[ RUN      ] ModelBuilderTest.test_unknown_faster_rcnn_feature_extractor\n",
            "[       OK ] ModelBuilderTest.test_unknown_faster_rcnn_feature_extractor\n",
            "[ RUN      ] ModelBuilderTest.test_unknown_meta_architecture\n",
            "[       OK ] ModelBuilderTest.test_unknown_meta_architecture\n",
            "[ RUN      ] ModelBuilderTest.test_unknown_ssd_feature_extractor\n",
            "[       OK ] ModelBuilderTest.test_unknown_ssd_feature_extractor\n",
            "----------------------------------------------------------------------\n",
            "Ran 17 tests in 0.166s\n",
            "\n",
            "OK (skipped=1)\n"
          ],
          "name": "stdout"
        }
      ]
    },
    {
      "cell_type": "markdown",
      "metadata": {
        "id": "OR_MBGO9Ys2E",
        "colab_type": "text"
      },
      "source": [
        "# Model Selection\n",
        "\n",
        "When selecting models, the key decision to make is latency versus accuracy. In this case, accuracy is more important than latency (I can't imagine why anyone would need to identify wheat heads quickly). The first model I trained was a __Faster R-CNN ResNet101 Model__, and the accuracy on the test set was still poor. I'm going to take a couple of steps to address this: \n",
        "\n",
        "* We are moving up the chain: Heading up the ladder to the __Faster R-CNN with Inception ResNet__. The training time is going to increase and we are going to lose latency for inferencing but who cares, our wheat heads aren't going anywhere. \n",
        "\n",
        "* Adding more data augmentation - The model did not translate well to the test set. After inspecting the images, it's not hard to see why. These wheat heads oftentimes don't like anything alike: They're different shapes, they're different colors, and sometimes they are extremely difficult to pick out of the background. I also noticed that the model was having trouble with images that contained larger wheat-heads, but it was better able to identify the smaller ones. The last model only employed Random Horizontal Flip for data augmentation - looking back that was a mistake. Horizontally flipping really makes no difference. This time I will be employing:\n",
        "  * Random Image Cropping: This hopefully help the model pick wheat heads out of the background as well as identify the larger wheat heads. \n",
        "  * Random RGB to Gray: This will hopefully help the model identify shape better. "
      ]
    },
    {
      "cell_type": "code",
      "metadata": {
        "id": "99X8QvwDyn8s",
        "colab_type": "code",
        "outputId": "4005217d-55d3-4ccb-8311-b0eb1b3f4e9f",
        "colab": {
          "base_uri": "https://localhost:8080/",
          "height": 204
        }
      },
      "source": [
        "%cd object_detection/\n",
        "\n",
        "!wget -O model_training.tar.gz http://download.tensorflow.org/models/object_detection/faster_rcnn_inception_resnet_v2_atrous_coco_2018_01_28.tar.gz -q\n",
        "\n",
        "!tar xvzf model_training.tar.gz\n",
        "\n",
        "!rm model_training.tar.gz"
      ],
      "execution_count": 0,
      "outputs": [
        {
          "output_type": "stream",
          "text": [
            "/gdrive/My Drive/object_detection/models/research/object_detection\n",
            "faster_rcnn_inception_resnet_v2_atrous_coco_2018_01_28/\n",
            "faster_rcnn_inception_resnet_v2_atrous_coco_2018_01_28/model.ckpt.index\n",
            "faster_rcnn_inception_resnet_v2_atrous_coco_2018_01_28/checkpoint\n",
            "faster_rcnn_inception_resnet_v2_atrous_coco_2018_01_28/pipeline.config\n",
            "faster_rcnn_inception_resnet_v2_atrous_coco_2018_01_28/model.ckpt.data-00000-of-00001\n",
            "faster_rcnn_inception_resnet_v2_atrous_coco_2018_01_28/model.ckpt.meta\n",
            "faster_rcnn_inception_resnet_v2_atrous_coco_2018_01_28/saved_model/\n",
            "faster_rcnn_inception_resnet_v2_atrous_coco_2018_01_28/saved_model/saved_model.pb\n",
            "faster_rcnn_inception_resnet_v2_atrous_coco_2018_01_28/saved_model/variables/\n",
            "faster_rcnn_inception_resnet_v2_atrous_coco_2018_01_28/frozen_inference_graph.pb\n"
          ],
          "name": "stdout"
        }
      ]
    },
    {
      "cell_type": "markdown",
      "metadata": {
        "id": "gFHd40TKeFnk",
        "colab_type": "text"
      },
      "source": [
        "If we don't remove the checkpoint file from this directory, it will skip the model training because it already thinks it has gone enough steps. "
      ]
    },
    {
      "cell_type": "code",
      "metadata": {
        "id": "zqp0GsKYd9XV",
        "colab_type": "code",
        "colab": {}
      },
      "source": [
        "!rm faster_rcnn_inception_resnet_v2_atrous_coco_2018_01_28/checkpoint"
      ],
      "execution_count": 0,
      "outputs": []
    },
    {
      "cell_type": "code",
      "metadata": {
        "id": "9Ycg0IhseTPW",
        "colab_type": "code",
        "colab": {}
      },
      "source": [
        "os.environ['DATA_PATH'] = '/gdrive/My Drive/object_detection/global-wheat-detection'\n",
        "\n",
        "os.environ['MODEL_PATH'] = 'object_detection/faster_rcnn_inception_resnet_v2_atrous_coco_2018_01_28'"
      ],
      "execution_count": 0,
      "outputs": []
    },
    {
      "cell_type": "markdown",
      "metadata": {
        "id": "lDjF-UW1fTt1",
        "colab_type": "text"
      },
      "source": [
        "It's important to set up export and Servo directories as well, the training API will throw an error at the end of training if you do not."
      ]
    },
    {
      "cell_type": "code",
      "metadata": {
        "id": "9SW5_NEsep8d",
        "colab_type": "code",
        "outputId": "952a9ff0-1a89-4fd7-c622-ad2e0845fc20",
        "colab": {
          "base_uri": "https://localhost:8080/",
          "height": 34
        }
      },
      "source": [
        "%cd object_detection/faster_rcnn_inception_resnet_v2_atrous_coco_2018_01_28/\n",
        "\n",
        "!mkdir export\n",
        "\n",
        "%cd export\n",
        "\n",
        "!mkdir Servo\n",
        "\n",
        "%cd .."
      ],
      "execution_count": 0,
      "outputs": [
        {
          "output_type": "stream",
          "text": [
            "/gdrive/My Drive/object_detection/models/research/object_detection/faster_rcnn_inception_resnet_v2_atrous_coco_2018_01_28\n"
          ],
          "name": "stdout"
        }
      ]
    },
    {
      "cell_type": "code",
      "metadata": {
        "id": "pGMu0t4he4W3",
        "colab_type": "code",
        "outputId": "d4de1d38-1197-4329-d761-b59290374294",
        "colab": {
          "base_uri": "https://localhost:8080/",
          "height": 34
        }
      },
      "source": [
        "%%writefile global_wheat_detection.config\n",
        "model {\n",
        "  faster_rcnn {\n",
        "    num_classes: 1\n",
        "    image_resizer {\n",
        "      keep_aspect_ratio_resizer {\n",
        "        min_dimension: 600\n",
        "        max_dimension: 1024\n",
        "      }\n",
        "    }\n",
        "    feature_extractor {\n",
        "      type: 'faster_rcnn_inception_resnet_v2'\n",
        "      first_stage_features_stride: 8\n",
        "    }\n",
        "    first_stage_anchor_generator {\n",
        "      grid_anchor_generator {\n",
        "        scales: [0.25, 0.5, 1.0, 2.0]\n",
        "        aspect_ratios: [0.5, 1.0, 2.0]\n",
        "        height_stride: 8\n",
        "        width_stride: 8\n",
        "      }\n",
        "    }\n",
        "    first_stage_atrous_rate: 2\n",
        "    first_stage_box_predictor_conv_hyperparams {\n",
        "      op: CONV\n",
        "      regularizer {\n",
        "        l2_regularizer {\n",
        "          weight: 0.0\n",
        "        }\n",
        "      }\n",
        "      initializer {\n",
        "        truncated_normal_initializer {\n",
        "          stddev: 0.01\n",
        "        }\n",
        "      }\n",
        "    }\n",
        "    first_stage_nms_score_threshold: 0.0\n",
        "    first_stage_nms_iou_threshold: 0.7\n",
        "    first_stage_max_proposals: 300\n",
        "    first_stage_localization_loss_weight: 2.0\n",
        "    first_stage_objectness_loss_weight: 1.0\n",
        "    initial_crop_size: 17\n",
        "    maxpool_kernel_size: 1\n",
        "    maxpool_stride: 1\n",
        "    second_stage_box_predictor {\n",
        "      mask_rcnn_box_predictor {\n",
        "        use_dropout: false\n",
        "        dropout_keep_probability: 1.0\n",
        "        fc_hyperparams {\n",
        "          op: FC\n",
        "          regularizer {\n",
        "            l2_regularizer {\n",
        "              weight: 0.0\n",
        "            }\n",
        "          }\n",
        "          initializer {\n",
        "            variance_scaling_initializer {\n",
        "              factor: 1.0\n",
        "              uniform: true\n",
        "              mode: FAN_AVG\n",
        "            }\n",
        "          }\n",
        "        }\n",
        "      }\n",
        "    }\n",
        "    second_stage_post_processing {\n",
        "      batch_non_max_suppression {\n",
        "        score_threshold: 0.0\n",
        "        iou_threshold: 0.6\n",
        "        max_detections_per_class: 116\n",
        "        max_total_detections: 116\n",
        "      }\n",
        "      score_converter: SIGMOID\n",
        "    }\n",
        "    second_stage_localization_loss_weight: 2.0\n",
        "    second_stage_classification_loss_weight: 1.0\n",
        "  }\n",
        "}\n",
        "\n",
        "train_config: {\n",
        "  batch_size: 1\n",
        "  optimizer {\n",
        "    momentum_optimizer: {\n",
        "      learning_rate: {\n",
        "        manual_step_learning_rate {\n",
        "          initial_learning_rate: 0.0003\n",
        "          schedule {\n",
        "            step: 900000\n",
        "            learning_rate: .00003\n",
        "          }\n",
        "          schedule {\n",
        "            step: 1200000\n",
        "            learning_rate: .000003\n",
        "          }\n",
        "        }\n",
        "      }\n",
        "      momentum_optimizer_value: 0.9\n",
        "    }\n",
        "    use_moving_average: false\n",
        "  }\n",
        "  gradient_clipping_by_norm: 10.0\n",
        "  fine_tune_checkpoint: \"/gdrive/My Drive/object_detection/models/research/object_detection/faster_rcnn_inception_resnet_v2_atrous_coco_2018_01_28/model.ckpt\"\n",
        "  from_detection_checkpoint: true\n",
        "  data_augmentation_options {\n",
        "    random_rgb_to_gray { \n",
        "    }\n",
        "    random_crop_image {\n",
        "        random_coef: 0.5  \n",
        "    }\n",
        "  }\n",
        "}\n",
        "\n",
        "train_input_reader: {\n",
        "  tf_record_input_reader {\n",
        "    input_path: \"/gdrive/My Drive/object_detection/global-wheat-detection/train.tfrecord\"\n",
        "  }\n",
        "  label_map_path: \"/gdrive/My Drive/object_detection/global-wheat-detection/label_map.pbtxt\"\n",
        "}\n",
        "\n",
        "eval_config: {\n",
        "  metrics_set: \"pascal_voc_detection_metrics\"\n",
        "  use_moving_averages: false\n",
        "  num_examples: 338\n",
        "}\n",
        "\n",
        "eval_input_reader: {\n",
        "  tf_record_input_reader {\n",
        "    input_path: \"/gdrive/My Drive/object_detection/global-wheat-detection/validation.tfrecord\"\n",
        "  }\n",
        "  label_map_path: \"/gdrive/My Drive/object_detection/global-wheat-detection/label_map.pbtxt\"\n",
        "  shuffle: false\n",
        "  num_readers: 1\n",
        "}"
      ],
      "execution_count": 0,
      "outputs": [
        {
          "output_type": "stream",
          "text": [
            "Writing global_wheat_detection.config\n"
          ],
          "name": "stdout"
        }
      ]
    },
    {
      "cell_type": "code",
      "metadata": {
        "id": "5sR_6xeIk5p5",
        "colab_type": "code",
        "outputId": "ded6e6f4-6f03-4959-a974-77d70c4ea387",
        "colab": {
          "base_uri": "https://localhost:8080/",
          "height": 51
        }
      },
      "source": [
        "cd ../..\n",
        "\n",
        "tf.test.is_gpu_available()"
      ],
      "execution_count": 0,
      "outputs": [
        {
          "output_type": "stream",
          "text": [
            "/gdrive/My Drive/object_detection/models/research\n"
          ],
          "name": "stdout"
        },
        {
          "output_type": "execute_result",
          "data": {
            "text/plain": [
              "True"
            ]
          },
          "metadata": {
            "tags": []
          },
          "execution_count": 13
        }
      ]
    },
    {
      "cell_type": "code",
      "metadata": {
        "id": "ALXw0vgDmMLe",
        "colab_type": "code",
        "colab": {}
      },
      "source": [
        "!python object_detection/model_main.py \\\n",
        "    --pipeline_config_path=object_detection/faster_rcnn_inception_resnet_v2_atrous_coco_2018_01_28/global_wheat_detection.config \\\n",
        "    --model_dir=object_detection/faster_rcnn_inception_resnet_v2_atrous_coco_2018_01_28 \\\n",
        "    --num_train_steps=40000 \\\n",
        "    --sample_1_of_n_eval_examples=1 \\\n",
        "    --alsologtostderr=False"
      ],
      "execution_count": 0,
      "outputs": []
    },
    {
      "cell_type": "code",
      "metadata": {
        "id": "ub1bNPP1mpJr",
        "colab_type": "code",
        "colab": {}
      },
      "source": [
        "import numpy as np\n",
        "import re\n",
        "\n",
        "ckpts = [f for f in os.listdir('object_detection/faster_rcnn_inception_resnet_v2_atrous_coco_2018_01_28') \\\n",
        "       if 'model.ckpt-' in f and '.meta' in f]\n",
        "\n",
        "ckpt_steps = np.array([int(re.findall('\\d+', f)[0]) for f in ckpts])\n",
        "\n",
        "last_model = ckpts[ckpt_steps.argmax()].replace('.meta', '')\n",
        "\n",
        "last_model_path = os.path.join('object_detection/faster_rcnn_inception_resnet_v2_atrous_coco_2018_01_28', last_model)"
      ],
      "execution_count": 0,
      "outputs": []
    },
    {
      "cell_type": "code",
      "metadata": {
        "id": "kzA4JxmfBGMD",
        "colab_type": "code",
        "outputId": "24a2f9e7-108a-4e94-994f-07ba56551ee9",
        "colab": {
          "base_uri": "https://localhost:8080/",
          "height": 34
        }
      },
      "source": [
        "print(last_model_path)"
      ],
      "execution_count": 0,
      "outputs": [
        {
          "output_type": "stream",
          "text": [
            "object_detection/faster_rcnn_inception_resnet_v2_atrous_coco_2018_01_28/model.ckpt-7902\n"
          ],
          "name": "stdout"
        }
      ]
    },
    {
      "cell_type": "code",
      "metadata": {
        "id": "uhaQBklNBHqy",
        "colab_type": "code",
        "colab": {}
      },
      "source": [
        "output_dir = \"object_detection/faster_rcnn_inception_resnet_v2_atrous_coco_2018_01_28/trained_model7902/\"\n",
        "\n",
        "if not os.path.exists(output_dir):\n",
        "\n",
        "    os.makedirs(output_dir)"
      ],
      "execution_count": 0,
      "outputs": []
    },
    {
      "cell_type": "code",
      "metadata": {
        "id": "luOPOQiWBqLx",
        "colab_type": "code",
        "colab": {}
      },
      "source": [
        "!python object_detection/export_inference_graph.py \\\n",
        "   --input_type=image_tensor \\\n",
        "   --pipeline_config_path object_detection/faster_rcnn_inception_resnet_v2_atrous_coco_2018_01_28/global_wheat_detection.config \\\n",
        "   --output_directory object_detection/faster_rcnn_inception_resnet_v2_atrous_coco_2018_01_28/trained_model7902/ \\\n",
        "   --trained_checkpoint_prefix object_detection/faster_rcnn_inception_resnet_v2_atrous_coco_2018_01_28/model.ckpt-7902"
      ],
      "execution_count": 0,
      "outputs": []
    },
    {
      "cell_type": "code",
      "metadata": {
        "id": "Wk1druMLB-oK",
        "colab_type": "code",
        "colab": {}
      },
      "source": [
        "!python object_detection/inference/infer_detections.py \\\n",
        "  --input_tfrecord_paths=/gdrive/'My Drive'/object_detection/global-wheat-detection/test_images.tfrecord \\\n",
        "  --output_tfrecord_path=/gdrive/'My Drive'/object_detection/global-wheat-detection/model2_inferences7902.tfrecord \\\n",
        "  --inference_graph=object_detection/faster_rcnn_inception_resnet_v2_atrous_coco_2018_01_28/trained_model7902/frozen_inference_graph.pb \\\n",
        "  --discard_image_pixels"
      ],
      "execution_count": 0,
      "outputs": []
    },
    {
      "cell_type": "code",
      "metadata": {
        "id": "OV0GkDqpC0NW",
        "colab_type": "code",
        "colab": {}
      },
      "source": [
        ""
      ],
      "execution_count": 0,
      "outputs": []
    }
  ]
}